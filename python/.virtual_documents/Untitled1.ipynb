import skimage as sk


coins = sk.data.coins()


coins.shape


sk.io.imshow(coins)


coins



