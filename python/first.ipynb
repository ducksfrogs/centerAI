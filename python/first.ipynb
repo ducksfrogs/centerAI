{
 "cells": [
  {
   "cell_type": "code",
   "execution_count": 1,
   "id": "5e1b3e73-a9d2-4a86-a5fd-2e0255bf52d4",
   "metadata": {},
   "outputs": [],
   "source": [
    "number1 = 2\n",
    "number2 = 10\n",
    "number3 = 4"
   ]
  },
  {
   "cell_type": "code",
   "execution_count": 2,
   "id": "f7ca5bb6-437a-4e21-908d-b665cb792bb4",
   "metadata": {},
   "outputs": [
    {
     "name": "stdout",
     "output_type": "stream",
     "text": [
      "7\n",
      "8\n",
      "9\n",
      "10\n",
      "11\n",
      "12\n",
      "13\n",
      "14\n"
     ]
    }
   ],
   "source": [
    "for i in range(7,15):\n",
    "    print(i)"
   ]
  },
  {
   "cell_type": "code",
   "execution_count": 3,
   "id": "f6d5b8d9-0c95-4454-9d2a-3420e3f9d187",
   "metadata": {},
   "outputs": [],
   "source": [
    "data = [\"AKB48\",\"乃木坂46\",\"欅坂46\",\"日向坂46\"]"
   ]
  },
  {
   "cell_type": "code",
   "execution_count": 4,
   "id": "d97adb2f-3799-44e5-aec8-415fc31880cf",
   "metadata": {},
   "outputs": [
    {
     "name": "stdout",
     "output_type": "stream",
     "text": [
      "AKB48\n",
      "乃木坂46\n",
      "欅坂46\n",
      "日向坂46\n"
     ]
    }
   ],
   "source": [
    "for i in data:\n",
    "    print(i)"
   ]
  },
  {
   "cell_type": "code",
   "execution_count": 5,
   "id": "9ff1aa39-fb7c-4478-ab1b-25b70fae2fe2",
   "metadata": {},
   "outputs": [],
   "source": [
    "colors = [\"purple\",\"red\",\"green\",\"red\",\"pink\",\"purple\",\"blue\"]\n",
    "\n"
   ]
  },
  {
   "cell_type": "code",
   "execution_count": 6,
   "id": "c641dfef-7343-461a-898b-299ceede7054",
   "metadata": {},
   "outputs": [
    {
     "name": "stdout",
     "output_type": "stream",
     "text": [
      "purple\n",
      "red\n",
      "red\n",
      "purple\n"
     ]
    }
   ],
   "source": [
    "for i in colors:\n",
    "    if i == 'purple' or i == 'red':\n",
    "        print(i)"
   ]
  },
  {
   "cell_type": "code",
   "execution_count": 7,
   "id": "94bc75f9-da1f-448b-a836-777a6fe9d3a6",
   "metadata": {},
   "outputs": [],
   "source": [
    "def add( num1, num2 ) :\n",
    "\n",
    "    result = num1 + num2\n",
    "\n",
    "    return result\n",
    "\n",
    "a = 5\n",
    "\n",
    "b = 2"
   ]
  },
  {
   "cell_type": "code",
   "execution_count": 8,
   "id": "a6157f9e-f842-4f65-b848-5ee80f6295ab",
   "metadata": {},
   "outputs": [
    {
     "data": {
      "text/plain": [
       "7"
      ]
     },
     "execution_count": 8,
     "metadata": {},
     "output_type": "execute_result"
    }
   ],
   "source": [
    "add(a, b)"
   ]
  },
  {
   "cell_type": "code",
   "execution_count": 9,
   "id": "9cca7b86-644f-4b82-b124-e189ffe01250",
   "metadata": {},
   "outputs": [],
   "source": [
    "player = {\n",
    "\n",
    "    \"name\" : \"ルーシー\",\n",
    "\n",
    "    \"job\" : \"魔法使い\",\n",
    "\n",
    "    \"weapon\" : \"賢者の杖\",\n",
    "\n",
    "}"
   ]
  },
  {
   "cell_type": "code",
   "execution_count": 10,
   "id": "87071b76-938d-4dba-abc4-e3a07a501a0d",
   "metadata": {},
   "outputs": [
    {
     "name": "stdout",
     "output_type": "stream",
     "text": [
      "ルーシー\n",
      "魔法使い\n",
      "賢者の杖\n"
     ]
    }
   ],
   "source": [
    "for v in player.values():\n",
    "    print(v)"
   ]
  },
  {
   "cell_type": "code",
   "execution_count": 11,
   "id": "542965a9-2034-4672-aad5-ba4dd30ccb9c",
   "metadata": {},
   "outputs": [
    {
     "name": "stdout",
     "output_type": "stream",
     "text": [
      "name\n",
      "job\n",
      "weapon\n"
     ]
    }
   ],
   "source": [
    "for i, v in enumerate(player):\n",
    "    print(v)"
   ]
  },
  {
   "cell_type": "code",
   "execution_count": null,
   "id": "a4988e0d-a271-4196-a680-d60dcff7ae43",
   "metadata": {},
   "outputs": [],
   "source": []
  }
 ],
 "metadata": {
  "kernelspec": {
   "display_name": "Python 3 (ipykernel)",
   "language": "python",
   "name": "python3"
  },
  "language_info": {
   "codemirror_mode": {
    "name": "ipython",
    "version": 3
   },
   "file_extension": ".py",
   "mimetype": "text/x-python",
   "name": "python",
   "nbconvert_exporter": "python",
   "pygments_lexer": "ipython3",
   "version": "3.12.4"
  }
 },
 "nbformat": 4,
 "nbformat_minor": 5
}
