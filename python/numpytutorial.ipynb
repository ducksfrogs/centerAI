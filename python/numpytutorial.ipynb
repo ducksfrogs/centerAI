{
 "cells": [
  {
   "cell_type": "code",
   "execution_count": 1,
   "id": "f11949b2-cacc-43f9-88cc-4b11e0418b0b",
   "metadata": {},
   "outputs": [
    {
     "name": "stderr",
     "output_type": "stream",
     "text": [
      "Matplotlib is building the font cache; this may take a moment.\n"
     ]
    }
   ],
   "source": [
    "import numpy as np\n",
    "import pandas as pd\n",
    "import matplotlib.pyplot as plt"
   ]
  },
  {
   "cell_type": "code",
   "execution_count": 2,
   "id": "95449381-daab-498c-9508-b2486fdbdee1",
   "metadata": {},
   "outputs": [],
   "source": [
    "a = np.arange(6)\n",
    "b = np.arange(12).reshape(4,3)"
   ]
  },
  {
   "cell_type": "code",
   "execution_count": 3,
   "id": "0c6ed1ff-e65f-4512-92e1-4aae9ba72728",
   "metadata": {},
   "outputs": [
    {
     "data": {
      "text/plain": [
       "array([[ 0,  1,  2],\n",
       "       [ 3,  4,  5],\n",
       "       [ 6,  7,  8],\n",
       "       [ 9, 10, 11]])"
      ]
     },
     "execution_count": 3,
     "metadata": {},
     "output_type": "execute_result"
    }
   ],
   "source": [
    "b"
   ]
  },
  {
   "cell_type": "code",
   "execution_count": 7,
   "id": "a496657c-b45e-4361-91ee-2da5da84d2bc",
   "metadata": {},
   "outputs": [
    {
     "data": {
      "text/plain": [
       "array([2, 5])"
      ]
     },
     "execution_count": 7,
     "metadata": {},
     "output_type": "execute_result"
    }
   ],
   "source": [
    "b[0:2,2]"
   ]
  },
  {
   "cell_type": "code",
   "execution_count": 8,
   "id": "ce419c27-5515-46e4-9b2c-6ad22a72e9af",
   "metadata": {},
   "outputs": [],
   "source": [
    "t = np.arange(10000).reshape(100, 100)"
   ]
  },
  {
   "cell_type": "code",
   "execution_count": 9,
   "id": "9c0b4b6e-f26f-4771-9304-465a2dccb3d6",
   "metadata": {},
   "outputs": [
    {
     "data": {
      "text/plain": [
       "array([[   0,    1,    2, ...,   97,   98,   99],\n",
       "       [ 100,  101,  102, ...,  197,  198,  199],\n",
       "       [ 200,  201,  202, ...,  297,  298,  299],\n",
       "       ...,\n",
       "       [9700, 9701, 9702, ..., 9797, 9798, 9799],\n",
       "       [9800, 9801, 9802, ..., 9897, 9898, 9899],\n",
       "       [9900, 9901, 9902, ..., 9997, 9998, 9999]])"
      ]
     },
     "execution_count": 9,
     "metadata": {},
     "output_type": "execute_result"
    }
   ],
   "source": [
    "t"
   ]
  },
  {
   "cell_type": "code",
   "execution_count": 11,
   "id": "40f1c040-5762-4a76-ae37-76a0046cda14",
   "metadata": {},
   "outputs": [],
   "source": [
    "t_ed = t[0:10, 0:30]"
   ]
  },
  {
   "cell_type": "code",
   "execution_count": 12,
   "id": "dcd9ad00-d39b-42c1-84f2-f9b815988d5b",
   "metadata": {},
   "outputs": [
    {
     "data": {
      "text/plain": [
       "array([[  0,   1,   2,   3,   4,   5,   6,   7,   8,   9,  10,  11,  12,\n",
       "         13,  14,  15,  16,  17,  18,  19,  20,  21,  22,  23,  24,  25,\n",
       "         26,  27,  28,  29],\n",
       "       [100, 101, 102, 103, 104, 105, 106, 107, 108, 109, 110, 111, 112,\n",
       "        113, 114, 115, 116, 117, 118, 119, 120, 121, 122, 123, 124, 125,\n",
       "        126, 127, 128, 129],\n",
       "       [200, 201, 202, 203, 204, 205, 206, 207, 208, 209, 210, 211, 212,\n",
       "        213, 214, 215, 216, 217, 218, 219, 220, 221, 222, 223, 224, 225,\n",
       "        226, 227, 228, 229],\n",
       "       [300, 301, 302, 303, 304, 305, 306, 307, 308, 309, 310, 311, 312,\n",
       "        313, 314, 315, 316, 317, 318, 319, 320, 321, 322, 323, 324, 325,\n",
       "        326, 327, 328, 329],\n",
       "       [400, 401, 402, 403, 404, 405, 406, 407, 408, 409, 410, 411, 412,\n",
       "        413, 414, 415, 416, 417, 418, 419, 420, 421, 422, 423, 424, 425,\n",
       "        426, 427, 428, 429],\n",
       "       [500, 501, 502, 503, 504, 505, 506, 507, 508, 509, 510, 511, 512,\n",
       "        513, 514, 515, 516, 517, 518, 519, 520, 521, 522, 523, 524, 525,\n",
       "        526, 527, 528, 529],\n",
       "       [600, 601, 602, 603, 604, 605, 606, 607, 608, 609, 610, 611, 612,\n",
       "        613, 614, 615, 616, 617, 618, 619, 620, 621, 622, 623, 624, 625,\n",
       "        626, 627, 628, 629],\n",
       "       [700, 701, 702, 703, 704, 705, 706, 707, 708, 709, 710, 711, 712,\n",
       "        713, 714, 715, 716, 717, 718, 719, 720, 721, 722, 723, 724, 725,\n",
       "        726, 727, 728, 729],\n",
       "       [800, 801, 802, 803, 804, 805, 806, 807, 808, 809, 810, 811, 812,\n",
       "        813, 814, 815, 816, 817, 818, 819, 820, 821, 822, 823, 824, 825,\n",
       "        826, 827, 828, 829],\n",
       "       [900, 901, 902, 903, 904, 905, 906, 907, 908, 909, 910, 911, 912,\n",
       "        913, 914, 915, 916, 917, 918, 919, 920, 921, 922, 923, 924, 925,\n",
       "        926, 927, 928, 929]])"
      ]
     },
     "execution_count": 12,
     "metadata": {},
     "output_type": "execute_result"
    }
   ],
   "source": [
    "t_ed"
   ]
  },
  {
   "cell_type": "code",
   "execution_count": null,
   "id": "58f9f6f3-1f40-4bdf-b290-caad80122540",
   "metadata": {},
   "outputs": [],
   "source": []
  }
 ],
 "metadata": {
  "kernelspec": {
   "display_name": "Python 3 (ipykernel)",
   "language": "python",
   "name": "python3"
  },
  "language_info": {
   "codemirror_mode": {
    "name": "ipython",
    "version": 3
   },
   "file_extension": ".py",
   "mimetype": "text/x-python",
   "name": "python",
   "nbconvert_exporter": "python",
   "pygments_lexer": "ipython3",
   "version": "3.12.4"
  }
 },
 "nbformat": 4,
 "nbformat_minor": 5
}
