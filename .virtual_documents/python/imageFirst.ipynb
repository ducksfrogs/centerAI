import skimage as sk
import matplotlib.pyplot as plt


coins = sk.data.coins()


coins.shape


sk.io.imshow(coins)


coin_edit = coins[0:100, 0:150]


coin_edit


sk.io.imshow(coin_edit)


astro = sk.data.astronaut()


sk.io.imshow(astro)


astro_trimed = astro[0:200, 150:300]


sk.io.imshow(astro_trimed)


astro_trimed[:, :, 1] = 0
astro_trimed[:, :, 2] = 0


red


sk.io.imshow(astro)


red_new = astro.copy()



