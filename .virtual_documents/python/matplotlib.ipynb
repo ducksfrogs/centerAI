import numpy as np
import pandas as pd
import matplotlib.pyplot as plt


fig, ax = plt.subplots()
ax.plot([1,2,3,4],[1,4,2,3])
plt.show()


np.random.seed(19680801)
data = {'a': np.arange(50),
        'c': np.random.randint(0, 50, 50),
        'd': np.random.randn(50)}
data['b'] = data['a'] + 10 * np.random.randn(50)
data['d'] = np.abs(data['d']) * 100


fig, ax = plt.subplots(figsize=(5,2.7), layout='constrained')
ax.scatter('a', 'b', c = 'c', s='d', data=data)
ax.set_xlabel('entry a')
ax.set_ylabel('entry b')


data


np.random.randint(0, 50, 50)


x = np.arange(-100, 100)


y = x



fig, ax = plt.subplots()
ax.plot(x, y)


y = x**2


fig, ax = plt.subplots()
ax.plot(x, y)


y = x**3


fig, ax = plt.subplots()
ax.plot(x, y)



