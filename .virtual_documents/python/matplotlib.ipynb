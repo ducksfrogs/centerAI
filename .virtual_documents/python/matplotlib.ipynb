import numpy as np
import pandas as pd
import matplotlib.pyplot as plt


x = np.arange(-100, 100)


y = x



fig, ax = plt.subplots()
ax.plot(x, y)


y = x**2


fig, ax = plt.subplots()
ax.plot(x, y)


y = x**3


fig, ax = plt.subplots()
ax.plot(x, y)



