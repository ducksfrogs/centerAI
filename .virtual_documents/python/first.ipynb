number1 = 2
number2 = 10
number3 = 4


for i in range(7,15):
    print(i)


data = ["AKB48","乃木坂46","欅坂46","日向坂46"]


for i in data:
    print(i)


colors = ["purple","red","green","red","pink","purple","blue"]




for i in colors:
    if i == 'purple' or i == 'red':
        print(i)


def add( num1, num2 ) :

    result = num1 + num2

    return result

a = 5

b = 2


add(a, b)


player = {

    "name" : "ルーシー",

    "job" : "魔法使い",

    "weapon" : "賢者の杖",

}


for v in player.values():
    print(v)


for i, v in enumerate(player):
    print(v)



