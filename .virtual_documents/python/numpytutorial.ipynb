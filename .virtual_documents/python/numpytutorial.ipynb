import numpy as np
import pandas as pd
import matplotlib.pyplot as plt


a = np.arange(6)
b = np.arange(12).reshape(4,3)


b


b[0:2,2]


t = np.arange(10000).reshape(100, 100)


t


t_ed = t[0:10, 0:30]


t_ed



